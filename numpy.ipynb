{
 "cells": [
  {
   "cell_type": "code",
   "execution_count": 3,
   "id": "initial_id",
   "metadata": {
    "jupyter": {
     "is_executing": true
    }
   },
   "outputs": [
    {
     "name": "stdout",
     "output_type": "stream",
     "text": [
      "[1 2 3 4 5]\n",
      "Type of arr: <class 'numpy.ndarray'>\n"
     ]
    }
   ],
   "source": [
    "# numpy INtro \n",
    "\n",
    "import numpy as np\n",
    "\n",
    "arr = np.array([1,2,3,4,5])\n",
    "\n",
    "print(arr)\n",
    "\n",
    "print(f\"Type of arr: {type(arr)}\")"
   ]
  },
  {
   "cell_type": "code",
   "execution_count": 4,
   "id": "1a0a2ed4-611d-4c59-8065-f9f686ca0343",
   "metadata": {},
   "outputs": [
    {
     "name": "stdout",
     "output_type": "stream",
     "text": [
      "[1 2 3 4 5]\n"
     ]
    }
   ],
   "source": [
    "#NumPy aims to provide an array object that is up to 50x faster than traditional Python lists.\n",
    "#The array object in NumPy is called ndarray, it provides a lot of supporting functions that \n",
    "#make working with ndarray very easy.\n",
    "#NumPy is usually imported under the np alias.\n",
    "\n",
    "import numpy\n",
    "\n",
    "arr = numpy.array([1,2,3,4,5,])\n",
    "\n",
    "print(arr)"
   ]
  },
  {
   "cell_type": "code",
   "execution_count": 5,
   "id": "f6cb97fb-6121-462e-a3db-8498aa7f0ece",
   "metadata": {},
   "outputs": [
    {
     "name": "stdout",
     "output_type": "stream",
     "text": [
      "[1 2 3 4 5]\n"
     ]
    }
   ],
   "source": [
    "# 1- D Array\n",
    "\n",
    "import numpy as np\n",
    "\n",
    "arr = np.array([1,2,3,4,5])\n",
    "\n",
    "print (arr)\n"
   ]
  },
  {
   "cell_type": "code",
   "execution_count": 6,
   "id": "160bee5d-6724-4569-91f4-6372a89a8329",
   "metadata": {},
   "outputs": [
    {
     "name": "stdout",
     "output_type": "stream",
     "text": [
      "[[1 2 3]\n",
      " [4 5 6]]\n"
     ]
    }
   ],
   "source": [
    "# 2 - D Array\n",
    "\n",
    "arr = np.array([[1,2,3],[4,5,6]])\n",
    "\n",
    "print (arr)\n"
   ]
  },
  {
   "cell_type": "code",
   "execution_count": 7,
   "id": "9d2752da-23ea-4d14-a30e-8bec6b6d93dc",
   "metadata": {},
   "outputs": [
    {
     "name": "stdout",
     "output_type": "stream",
     "text": [
      "[[[1 2 3]\n",
      "  [4 5 6]\n",
      "  [7 8 9]]]\n"
     ]
    }
   ],
   "source": [
    "# 3 -D Array \n",
    "\n",
    "arr = np.array([[[1,2,3],[4,5,6],[7,8,9]]])\n",
    "\n",
    "print (arr)\n"
   ]
  },
  {
   "cell_type": "code",
   "execution_count": 13,
   "id": "e8b29898-4f04-47d2-b523-b2e1ab868655",
   "metadata": {},
   "outputs": [
    {
     "name": "stdout",
     "output_type": "stream",
     "text": [
      "0\n",
      "1\n",
      "2\n",
      "3\n"
     ]
    }
   ],
   "source": [
    "#Check Number of Dimensions?\n",
    "import numpy as np \n",
    "\n",
    "a = np.array(42)\n",
    "b = np.array([1,2,3,4,5,6])\n",
    "c = np.array([[1,2,3],[4,5,6]])\n",
    "d = np.array([[[1,2,3],[4,5,6]], [[7,8,9],[10,11,12]]])\n",
    "\n",
    "print(a.ndim)\n",
    "print(b.ndim)\n",
    "print(c.ndim)\n",
    "print(d.ndim)"
   ]
  },
  {
   "cell_type": "code",
   "execution_count": 14,
   "id": "99fb4c5d-e40f-406c-9268-7e2f9ac96424",
   "metadata": {},
   "outputs": [
    {
     "name": "stdout",
     "output_type": "stream",
     "text": [
      "[[[[[1 2 3 4 5]]]]]\n",
      "number of dimensions : 5\n"
     ]
    }
   ],
   "source": [
    "#Create an array with 5 dimensions and verify that it has 5 dimensions\n",
    "arr = np.array([1,2,3,4,5], ndmin=5)\n",
    "print(arr)\n",
    "print('number of dimensions :', arr.ndim)"
   ]
  }
 ],
 "metadata": {
  "kernelspec": {
   "display_name": "Python [conda env:base] *",
   "language": "python",
   "name": "conda-base-py"
  },
  "language_info": {
   "codemirror_mode": {
    "name": "ipython",
    "version": 3
   },
   "file_extension": ".py",
   "mimetype": "text/x-python",
   "name": "python",
   "nbconvert_exporter": "python",
   "pygments_lexer": "ipython3",
   "version": "3.13.5"
  }
 },
 "nbformat": 4,
 "nbformat_minor": 5
}
