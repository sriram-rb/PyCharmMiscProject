{
 "cells": [
  {
   "cell_type": "code",
   "execution_count": 3,
   "id": "initial_id",
   "metadata": {
    "jupyter": {
     "is_executing": true
    }
   },
   "outputs": [
    {
     "name": "stdout",
     "output_type": "stream",
     "text": [
      "[1 2 3 4 5]\n",
      "Type of arr: <class 'numpy.ndarray'>\n"
     ]
    }
   ],
   "source": [
    "# numpy INtro \n",
    "\n",
    "import numpy as np\n",
    "\n",
    "arr = np.array([1,2,3,4,5])\n",
    "\n",
    "print(arr)\n",
    "\n",
    "print(f\"Type of arr: {type(arr)}\")"
   ]
  },
  {
   "cell_type": "code",
   "execution_count": 4,
   "id": "1a0a2ed4-611d-4c59-8065-f9f686ca0343",
   "metadata": {},
   "outputs": [
    {
     "name": "stdout",
     "output_type": "stream",
     "text": [
      "[1 2 3 4 5]\n"
     ]
    }
   ],
   "source": [
    "#NumPy aims to provide an array object that is up to 50x faster than traditional Python lists.\n",
    "#The array object in NumPy is called ndarray, it provides a lot of supporting functions that \n",
    "#make working with ndarray very easy.\n",
    "#NumPy is usually imported under the np alias.\n",
    "\n",
    "import numpy\n",
    "\n",
    "arr = numpy.array([1,2,3,4,5,])\n",
    "\n",
    "print(arr)"
   ]
  },
  {
   "cell_type": "code",
   "execution_count": 5,
   "id": "f6cb97fb-6121-462e-a3db-8498aa7f0ece",
   "metadata": {},
   "outputs": [
    {
     "name": "stdout",
     "output_type": "stream",
     "text": [
      "[1 2 3 4 5]\n"
     ]
    }
   ],
   "source": [
    "# 1- D Array\n",
    "\n",
    "import numpy as np\n",
    "\n",
    "arr = np.array([1,2,3,4,5])\n",
    "\n",
    "print (arr)\n"
   ]
  },
  {
   "cell_type": "code",
   "execution_count": 6,
   "id": "160bee5d-6724-4569-91f4-6372a89a8329",
   "metadata": {},
   "outputs": [
    {
     "name": "stdout",
     "output_type": "stream",
     "text": [
      "[[1 2 3]\n",
      " [4 5 6]]\n"
     ]
    }
   ],
   "source": [
    "# 2 - D Array\n",
    "\n",
    "arr = np.array([[1,2,3],[4,5,6]])\n",
    "\n",
    "print (arr)\n"
   ]
  },
  {
   "cell_type": "code",
   "execution_count": 7,
   "id": "9d2752da-23ea-4d14-a30e-8bec6b6d93dc",
   "metadata": {},
   "outputs": [
    {
     "name": "stdout",
     "output_type": "stream",
     "text": [
      "[[[1 2 3]\n",
      "  [4 5 6]\n",
      "  [7 8 9]]]\n"
     ]
    }
   ],
   "source": [
    "# 3 -D Array \n",
    "\n",
    "arr = np.array([[[1,2,3],[4,5,6],[7,8,9]]])\n",
    "\n",
    "print (arr)\n"
   ]
  },
  {
   "cell_type": "code",
   "execution_count": 13,
   "id": "e8b29898-4f04-47d2-b523-b2e1ab868655",
   "metadata": {},
   "outputs": [
    {
     "name": "stdout",
     "output_type": "stream",
     "text": [
      "0\n",
      "1\n",
      "2\n",
      "3\n"
     ]
    }
   ],
   "source": [
    "#Check Number of Dimensions?\n",
    "import numpy as np \n",
    "\n",
    "a = np.array(42)\n",
    "b = np.array([1,2,3,4,5,6])\n",
    "c = np.array([[1,2,3],[4,5,6]])\n",
    "d = np.array([[[1,2,3],[4,5,6]], [[7,8,9],[10,11,12]]])\n",
    "\n",
    "print(a.ndim)\n",
    "print(b.ndim)\n",
    "print(c.ndim)\n",
    "print(d.ndim)"
   ]
  },
  {
   "cell_type": "code",
   "execution_count": 14,
   "id": "99fb4c5d-e40f-406c-9268-7e2f9ac96424",
   "metadata": {},
   "outputs": [
    {
     "name": "stdout",
     "output_type": "stream",
     "text": [
      "[[[[[1 2 3 4 5]]]]]\n",
      "number of dimensions : 5\n"
     ]
    }
   ],
   "source": [
    "#Create an array with 5 dimensions and verify that it has 5 dimensions\n",
    "arr = np.array([1,2,3,4,5], ndmin=5)\n",
    "print(arr)\n",
    "print('number of dimensions :', arr.ndim)"
   ]
  },
  {
   "cell_type": "code",
   "execution_count": 2,
   "id": "a9bdef79-6f24-4a06-85d1-3ea1b1851faa",
   "metadata": {},
   "outputs": [
    {
     "name": "stdout",
     "output_type": "stream",
     "text": [
      "2\n"
     ]
    }
   ],
   "source": [
    "#NumPy Array Indexing\n",
    "#Access Array Elements\n",
    "#index starts with 0 not 1 the first element of array is [0]\n",
    "import numpy as np\n",
    "\n",
    "arr = np.array([1,2,3,4,5])\n",
    "\n",
    "print(arr[1])\n"
   ]
  },
  {
   "cell_type": "code",
   "execution_count": 4,
   "id": "90715b7c-23a8-47d6-9763-8336505f92b9",
   "metadata": {},
   "outputs": [
    {
     "name": "stdout",
     "output_type": "stream",
     "text": [
      "2 element of the first row : 2\n",
      "3 element of the second row : 8\n"
     ]
    }
   ],
   "source": [
    "# 2-D array indexing and accessing \n",
    "arr = np.array([[1,2,3,4,5],[6,7,8,9,10]])\n",
    "\n",
    "print('2 element of the first row :', arr[0,1])\n",
    "print('3 element of the second row :', arr[1,2])"
   ]
  },
  {
   "cell_type": "code",
   "execution_count": 13,
   "id": "c11f7b9e-370a-4dc6-a458-f57a92482f80",
   "metadata": {},
   "outputs": [
    {
     "name": "stdout",
     "output_type": "stream",
     "text": [
      "3\n",
      "6\n",
      "9\n"
     ]
    }
   ],
   "source": [
    "# 3-D array indexing and accessing \n",
    "\n",
    "arr = np.array([[[1,2,3],[4,5,6],[7,8,9]]])\n",
    "\n",
    "print(arr[0,0,2])\n",
    "print(arr[0,1,2])\n",
    "print(arr[0,2,2])"
   ]
  },
  {
   "cell_type": "code",
   "execution_count": 15,
   "id": "7ac04119-4d88-41bc-8d97-081581101030",
   "metadata": {},
   "outputs": [
    {
     "name": "stdout",
     "output_type": "stream",
     "text": [
      "Last element from 2nd dim : 10\n"
     ]
    }
   ],
   "source": [
    "# negative indexing \n",
    "\n",
    "arr = np.array([[1,2,3,4,5],[6,7,8,9,10]])\n",
    "print ('Last element from 2nd dim :', arr[1,-1])"
   ]
  },
  {
   "cell_type": "code",
   "execution_count": null,
   "id": "00ca38d8-b99c-45ac-86dd-f61c13bac27f",
   "metadata": {},
   "outputs": [],
   "source": []
  }
 ],
 "metadata": {
  "kernelspec": {
   "display_name": "Python [conda env:base] *",
   "language": "python",
   "name": "conda-base-py"
  },
  "language_info": {
   "codemirror_mode": {
    "name": "ipython",
    "version": 3
   },
   "file_extension": ".py",
   "mimetype": "text/x-python",
   "name": "python",
   "nbconvert_exporter": "python",
   "pygments_lexer": "ipython3",
   "version": "3.13.5"
  }
 },
 "nbformat": 4,
 "nbformat_minor": 5
}
